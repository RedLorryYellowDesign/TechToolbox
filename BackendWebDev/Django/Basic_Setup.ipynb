{
 "cells": [
  {
   "cell_type": "markdown",
   "id": "2817fc8a",
   "metadata": {},
   "source": [
    "# Intro"
   ]
  },
  {
   "cell_type": "markdown",
   "id": "22c56247",
   "metadata": {},
   "source": [
    "### About \n",
    "This Notebook contains my notes, refrances and templates for Django. I will mainly be using Django for making websites and other web apps that reqire more complexity than Flask. For purly API's I use fast API and would reconment this as its simple, Light weight and exstreamly high performance when compaired to other Python based Frameworks. \n",
    "### Disclamer \n",
    "Please Exscuse and spelling or stranage Grammer. This document is mainly ment for me but I have made it public in the hope other may also find it usefull but at the moment this is not inteded to be a refrance document, Im also quite Dislexic and while I will review this document for errors it will be at the standared im able to use it for my own needs. \n",
    "### Key References \n"
   ]
  },
  {
   "cell_type": "markdown",
   "id": "24bb3ea4",
   "metadata": {},
   "source": [
    "# Basic System Setting-Up "
   ]
  },
  {
   "cell_type": "markdown",
   "id": "0339eadd",
   "metadata": {},
   "source": [
    "### Vertual Enviroment - Pyenv\n",
    "I use pyenv for setting up a vertual enviroment. "
   ]
  },
  {
   "cell_type": "code",
   "execution_count": 2,
   "id": "50eeab9a",
   "metadata": {},
   "outputs": [
    {
     "ename": "SyntaxError",
     "evalue": "invalid syntax (1534588752.py, line 2)",
     "output_type": "error",
     "traceback": [
      "\u001b[0;36m  Cell \u001b[0;32mIn [2], line 2\u001b[0;36m\u001b[0m\n\u001b[0;31m    pip install pyenv\u001b[0m\n\u001b[0m        ^\u001b[0m\n\u001b[0;31mSyntaxError\u001b[0m\u001b[0;31m:\u001b[0m invalid syntax\n"
     ]
    }
   ],
   "source": [
    "# Install pyenv\n",
    "pip install pyenv"
   ]
  },
  {
   "cell_type": "code",
   "execution_count": null,
   "id": "2a1a9b13",
   "metadata": {},
   "outputs": [],
   "source": []
  },
  {
   "cell_type": "markdown",
   "id": "39c93ea9",
   "metadata": {},
   "source": [
    "# "
   ]
  }
 ],
 "metadata": {
  "kernelspec": {
   "display_name": "Python 3 (ipykernel)",
   "language": "python",
   "name": "python3"
  },
  "language_info": {
   "codemirror_mode": {
    "name": "ipython",
    "version": 3
   },
   "file_extension": ".py",
   "mimetype": "text/x-python",
   "name": "python",
   "nbconvert_exporter": "python",
   "pygments_lexer": "ipython3",
   "version": "3.8.12"
  },
  "toc": {
   "base_numbering": 1,
   "nav_menu": {},
   "number_sections": true,
   "sideBar": true,
   "skip_h1_title": false,
   "title_cell": "Table of Contents",
   "title_sidebar": "Contents",
   "toc_cell": false,
   "toc_position": {},
   "toc_section_display": true,
   "toc_window_display": false
  }
 },
 "nbformat": 4,
 "nbformat_minor": 5
}
